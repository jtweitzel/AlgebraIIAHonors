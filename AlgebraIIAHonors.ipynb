{
 "cells": [
  {
   "cell_type": "code",
   "execution_count": 25,
   "metadata": {},
   "outputs": [],
   "source": [
    "##### This is for asking the user what the degree of the polynomial is.\n",
    "from ipywidgets import interact, widgets\n",
    "# Numpy is a math library that can find roots.\n",
    "import numpy as np\n",
    "# Matplotlib is used to draw graphs.\n",
    "from matplotlib import pyplot as plt"
   ]
  },
  {
   "cell_type": "markdown",
   "metadata": {},
   "source": [
    "# Algebra II A Honors Project - Jamison Weitzel"
   ]
  },
  {
   "cell_type": "markdown",
   "metadata": {},
   "source": [
    "## A Jupyter Notebook to graph and find the roots of polynomials."
   ]
  },
  {
   "cell_type": "markdown",
   "metadata": {},
   "source": [
    "1) Ask the user to enter the degree of the polynomial."
   ]
  },
  {
   "cell_type": "code",
   "execution_count": 26,
   "metadata": {},
   "outputs": [
    {
     "data": {
      "application/vnd.jupyter.widget-view+json": {
       "model_id": "d161467e860f413c9f070eceb426b672",
       "version_major": 2,
       "version_minor": 0
      },
      "text/plain": [
       "interactive(children=(IntSlider(value=1, description='degree', max=10, min=1), Output()), _dom_classes=('widge…"
      ]
     },
     "metadata": {},
     "output_type": "display_data"
    },
    {
     "data": {
      "text/plain": [
       "<function __main__.set_degree(degree)>"
      ]
     },
     "execution_count": 26,
     "metadata": {},
     "output_type": "execute_result"
    }
   ],
   "source": [
    "# This is the variable where I will keep the degree of the polynomial.\n",
    "polynomial_degree = 1\n",
    "\n",
    "#A function that can be called to change the degree\n",
    "def set_degree(degree):\n",
    "    global polynomial_degree\n",
    "    polynomial_degree = degree\n",
    "\n",
    "# This will create a slider that the user can use to set the degree.\n",
    "interact(set_degree,degree=widgets.IntSlider(min=1,max=10,value=1))\n",
    "\n"
   ]
  },
  {
   "cell_type": "markdown",
   "metadata": {},
   "source": [
    "2) Ask the user for the polynomial coefficients."
   ]
  },
  {
   "cell_type": "code",
   "execution_count": 27,
   "metadata": {},
   "outputs": [
    {
     "name": "stdout",
     "output_type": "stream",
     "text": [
      "You've selected a polynomial of degree 3.\n",
      "Please enter the coefficients.\n",
      "Input coefficient for x**3 term and press \"Enter\"\n",
      "1\n",
      "Input coefficient for x**2 term and press \"Enter\"\n",
      "1\n",
      "Input coefficient for x**1 term and press \"Enter\"\n",
      "-22\n",
      "Input coefficient for x**0 term and press \"Enter\"\n",
      "-40\n"
     ]
    }
   ],
   "source": [
    "print(f\"You've selected a polynomial of degree {polynomial_degree}.\")\n",
    "print(f\"Please enter the coefficients.\")\n",
    "\n",
    "# A variable to hold the coefficient values.\n",
    "coefficients = []\n",
    "# A variable to display the exponent of the term.\n",
    "expnt = polynomial_degree\n",
    "# For the number of terms in the polynomial, collect the coefficient.\n",
    "for x in range(polynomial_degree+1):\n",
    "    print(f'Input coefficient for x**{expnt} term and press \"Enter\"')\n",
    "    # Get the input value and add it to the list.\n",
    "    coefficients.append(float(input()))\n",
    "    # Go to the next term by subrtacting one from the exponent.\n",
    "    expnt -= 1\n",
    "    "
   ]
  },
  {
   "cell_type": "markdown",
   "metadata": {},
   "source": [
    "Here is your polynomial."
   ]
  },
  {
   "cell_type": "code",
   "execution_count": 29,
   "metadata": {},
   "outputs": [
    {
     "name": "stdout",
     "output_type": "stream",
     "text": [
      "+ 1.0x^3 + 1.0x^2 + -22.0x^1 + -40.0x^0 \n"
     ]
    }
   ],
   "source": [
    "poly = ''\n",
    "expnt = polynomial_degree\n",
    "for x in range(polynomial_degree+1):\n",
    "    poly += f'+ {coefficients[x]}x^{expnt} '\n",
    "    expnt -= 1\n",
    "\n",
    "print(poly)"
   ]
  },
  {
   "cell_type": "markdown",
   "metadata": {},
   "source": [
    "3) Here is a graph of your polynomial!"
   ]
  },
  {
   "cell_type": "code",
   "execution_count": 30,
   "metadata": {
    "scrolled": false
   },
   "outputs": [
    {
     "name": "stdout",
     "output_type": "stream",
     "text": [
      "(-5.0, -30.0)\n",
      "(-4.0, 0.0)\n",
      "(-3.0, 8.0)\n",
      "(-2.0, 0.0)\n",
      "(-1.0, -18.0)\n",
      "(0.0, -40.0)\n",
      "(1.0, -60.0)\n",
      "(2.0, -72.0)\n",
      "(3.0, -70.0)\n",
      "(4.0, -48.0)\n",
      "(5.0, 0.0)\n"
     ]
    },
    {
     "data": {
      "image/png": "[encoded data removed]",
      "text/plain": [
       "<Figure size 432x288 with 1 Axes>"
      ]
     },
     "metadata": {
      "needs_background": "light"
     },
     "output_type": "display_data"
    }
   ],
   "source": [
    "# This function will calculate the value of the polynomial for the passed in value of x.\n",
    "# https://stackoverflow.com/questions/37352098/ploting-a-polynomial-using-matplotlib-and-coeffiecients\n",
    "def apply_function(x, coeffs):\n",
    "    exp = len(coeffs)-1\n",
    "    y = 0\n",
    "    for i in range(polynomial_degree+1):\n",
    "        y += coeffs[i]*x**exp\n",
    "        exp -= 1\n",
    "    return y\n",
    "\n",
    "# This creates a set of numbers that will be used for values of x to pass to the function.\n",
    "# The numbers will be between -5 and 5.\n",
    "# https://docs.scipy.org/doc/numpy/reference/generated/numpy.linspace.html\n",
    "x = np.linspace(-5, 5, 11)\n",
    "\n",
    "# This will print the (x, y) coordinates.\n",
    "for some_x in x:\n",
    "    print(f'({some_x}, {apply_function(some_x, coefficients)})')\n",
    "\n",
    "# Draw a plot of the function.\n",
    "# https://matplotlib.org/3.1.1/api/_as_gen/matplotlib.pyplot.plot.html\n",
    "plt.plot(x, apply_function(x, coefficients))\n",
    "plt.show()"
   ]
  },
  {
   "cell_type": "markdown",
   "metadata": {},
   "source": [
    "4) Here are the roots of your polynomial!"
   ]
  },
  {
   "cell_type": "code",
   "execution_count": 31,
   "metadata": {},
   "outputs": [
    {
     "name": "stdout",
     "output_type": "stream",
     "text": [
      "[ 5. -4. -2.]\n"
     ]
    }
   ],
   "source": [
    "# Use the numpy roots function to calculate the roots.\n",
    "# https://docs.scipy.org/doc/numpy/reference/generated/numpy.roots.html\n",
    "roots = np.roots(coefficients)\n",
    "print(roots)"
   ]
  },
  {
   "cell_type": "code",
   "execution_count": 32,
   "metadata": {},
   "outputs": [
    {
     "name": "stdout",
     "output_type": "stream",
     "text": [
      "The real roots are:\n",
      "[ 5. -4. -2.]\n"
     ]
    }
   ],
   "source": [
    "# remove the values that are not real\n",
    "# https://stackoverflow.com/questions/28081247/print-real-roots-only-in-numpy\n",
    "real_valued = roots.real[abs(roots.imag)<1e-5] # where I chose 1-e5 as a threshold\n",
    "print('The real roots are:')\n",
    "print(real_valued)"
   ]
  }
 ],
 "metadata": {
  "kernelspec": {
   "display_name": "Python 3",
   "language": "python",
   "name": "python3"
  },
  "language_info": {
   "codemirror_mode": {
    "name": "ipython",
    "version": 3
   },
   "file_extension": ".py",
   "mimetype": "text/x-python",
   "name": "python",
   "nbconvert_exporter": "python",
   "pygments_lexer": "ipython3",
   "version": "3.7.6"
  }
 },
 "nbformat": 4,
 "nbformat_minor": 2
}
